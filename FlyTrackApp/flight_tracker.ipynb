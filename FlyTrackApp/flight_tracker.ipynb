{
 "cells": [
  {
   "cell_type": "code",
   "execution_count": 1,
   "metadata": {},
   "outputs": [
    {
     "data": {
      "text/html": [
       "<style>.container { width:100% !important; }</style>"
      ],
      "text/plain": [
       "<IPython.core.display.HTML object>"
      ]
     },
     "metadata": {},
     "output_type": "display_data"
    }
   ],
   "source": [
    "%matplotlib inline\n",
    "\n",
    "from IPython.core.display import display, HTML\n",
    "display(HTML(\"<style>.container { width:100% !important; }</style>\"))\n",
    "\n",
    "import sys\n",
    "\n",
    "import os\n",
    "import numpy as np\n",
    "\n",
    "import matplotlib.pyplot as plt\n",
    "import matplotlib.image as mpimg\n",
    "from matplotlib import animation\n",
    "from mpl_toolkits.mplot3d import Axes3D\n",
    "\n",
    "import ipywidgets as widgets\n",
    "from ipywidgets import interact, interactive, fixed, interact_manual\n",
    "from IPython.display import clear_output, display, HTML"
   ]
  },
  {
   "cell_type": "code",
   "execution_count": 2,
   "metadata": {
    "scrolled": true
   },
   "outputs": [
    {
     "name": "stdout",
     "output_type": "stream",
     "text": [
      "------------------------------------\n",
      "C++ Flight Tracker Class parameters:\n",
      "------------------------------------\n",
      "\n",
      "Number of cameras: 3\n",
      "Start frame: 0\n",
      "Mid frame: 8188\n",
      "End frame: 16375\n",
      "Trigger mode: center\n",
      "Session folder: /media/flyami/New Volume/Flyami_movies/Session_10_Jan_2018_14_24\n",
      "Movie name: mov_\n",
      "Camera name: cam_\n",
      "Calibration folder: calibration\n",
      "Calibration name: cam_calib.txt\n",
      "Background folder: background\n",
      "Background name: background_cam_\n",
      "Background image format: tif\n",
      "Frame name: frame_\n",
      "Frame image format: bmp\n",
      "Solution location: \n",
      "Solution file name: \n",
      "Model location: /home/flyami/flight_tracker/models\n",
      "Model name: drosophila_melanogaster_simple\n",
      "Nx: 256\n",
      "Ny: 256\n",
      "Nz: 256\n",
      "ds: 0.04\n",
      "x0: 0.0\n",
      "y0: 0.0\n",
      "z0: 0.0\n",
      "N_threads: 8\n",
      "\n",
      "------------------------------------\n"
     ]
    }
   ],
   "source": [
    "# Step 1: Set all movie, calibration and model parameters.\n",
    "\n",
    "from flight_tracker_class import Flight_Tracker_Class\n",
    "\n",
    "flt = Flight_Tracker_Class()\n",
    "\n",
    "flt.N_cam = 3\n",
    "flt.mov_nr = 1\n",
    "\n",
    "flt.start_point = 0\n",
    "flt.mid_point = 8188\n",
    "flt.end_point = 16375\n",
    "flt.trigger_mode = \"center\"\n",
    "\n",
    "flt.session_loc = \"/media/flyami/New Volume/Flyami_movies/Session_10_Jan_2018_14_24\"\n",
    "flt.mov_name = \"mov_\"\n",
    "flt.cam_name = \"cam_\"\n",
    "flt.cal_loc = \"calibration\"\n",
    "flt.cal_name = \"cam_calib.txt\"\n",
    "flt.bckg_loc = \"background\"\n",
    "flt.bckg_name = \"background_cam_\"\n",
    "flt.bckg_img_format = \"tif\"\n",
    "flt.frame_name = \"frame_\"\n",
    "flt.frame_img_format = \"bmp\"\n",
    "flt.sol_loc = \"\"\n",
    "flt.sol_name = \"\"\n",
    "flt.model_loc = \"/home/flyami/flight_tracker/models\"\n",
    "flt.model_name = \"drosophila_melanogaster_simple\"\n",
    "\n",
    "flt.nx = 256\n",
    "flt.ny = 256\n",
    "flt.nz = 256\n",
    "flt.ds = 0.040\n",
    "flt.x0 = 0.0\n",
    "flt.y0 = 0.0\n",
    "flt.z0 = 0.0\n",
    "\n",
    "flt.N_threads = 8\n",
    "\n",
    "flt.set_parameters()\n",
    "\n",
    "flt.get_parameters()\n",
    "\n",
    "flt.set_session_parameters()"
   ]
  },
  {
   "cell_type": "code",
   "execution_count": 3,
   "metadata": {},
   "outputs": [
    {
     "name": "stdout",
     "output_type": "stream",
     "text": [
      "True\n"
     ]
    }
   ],
   "source": [
    "# Step 2: Given the calibration file, calculate the focal voxel grid. This might take several minutes, depending on the focal grid size.\n",
    "\n",
    "flt.init_frame_loader()\n",
    "\n",
    "flt.init_focal_grid()\n",
    "\n",
    "flt.construct_focal_grid()"
   ]
  },
  {
   "cell_type": "code",
   "execution_count": 4,
   "metadata": {},
   "outputs": [
    {
     "data": {
      "application/vnd.jupyter.widget-view+json": {
       "model_id": "8902d716f868472483adab42c9afdb32",
       "version_major": 2,
       "version_minor": 0
      },
      "text/plain": [
       "aW50ZXJhY3RpdmUoY2hpbGRyZW49KEJvdW5kZWRJbnRUZXh0KHZhbHVlPTEsIGRlc2NyaXB0aW9uPXUnRnJhbWUgbnI6JywgbWF4PTE2Mzc1KSwgT3V0cHV0KCkpLCBfZG9tX2NsYXNzZXM9KHXigKY=\n"
      ]
     },
     "metadata": {},
     "output_type": "display_data"
    }
   ],
   "source": [
    "# Step 3: Interactive raw video window. Check if the background subtraction functions properly.\n",
    "\n",
    "w_raw_img = interactive(flt.raw_frame_interactor,\n",
    "                       frame_nr = widgets.BoundedIntText(value=1, min=flt.start_point, max=flt.end_point, step=1, description='Frame nr:'))\n",
    "\n",
    "display(w_raw_img)"
   ]
  },
  {
   "cell_type": "code",
   "execution_count": 5,
   "metadata": {},
   "outputs": [],
   "source": [
    "# Step 4: Interactive model selection window."
   ]
  },
  {
   "cell_type": "code",
   "execution_count": null,
   "metadata": {},
   "outputs": [],
   "source": [
    "flt.load_model()\n",
    "\n",
    "from flight_tracker_vis_class import FlightTrackerVisualization\n",
    "\n",
    "vis = FlightTrackerVisualization()\n",
    "\n",
    "vis.load_model(flt.model_name,flt.model_loc,flt.return_stl_list())\n",
    "\n",
    "vis.set_state_model(flt.return_model_state(),flt.return_parents(),[1.2, 1.2, 1.9, 2.5, 2.5])\n",
    "\n",
    "xyz = np.subtract(np.random.rand(3,100000)*2.0,np.ones((3,100000))*1.0)\n",
    "model_pcl = flt.return_model_pcl()\n",
    "print model_pcl.shape\n",
    "#vis.add_pointcloud(model_pcl[0:3,:])\n",
    "#vis.add_pointcloud(xyz)\n",
    "vis.show_pointcloud(model_pcl)\n",
    "\n",
    "vis.start_interaction_window()\n",
    "\n",
    "vis.kill_interaction_window()"
   ]
  },
  {
   "cell_type": "code",
   "execution_count": null,
   "metadata": {},
   "outputs": [],
   "source": [
    "flt.show_model_imgs(flt.return_model_imgs())\n",
    "\n",
    "#proj_model_pcl = flt.return_projected_model_pcl()\n",
    "\n",
    "#vis2 = FlightTrackerVisualization()\n",
    "\n",
    "#vis2.load_model(flt.model_name,flt.model_loc,flt.return_stl_list())\n",
    "\n",
    "#vis2.set_state_model(flt.return_model_state(),flt.return_parents())\n",
    "\n",
    "#vis2.show_pointcloud(proj_model_pcl)\n",
    "\n",
    "#vis2.start_interaction_window()\n",
    "\n",
    "#vis2.kill_interaction_window()"
   ]
  },
  {
   "cell_type": "code",
   "execution_count": null,
   "metadata": {},
   "outputs": [],
   "source": []
  }
 ],
 "metadata": {
  "kernelspec": {
   "display_name": "Python 2",
   "language": "python",
   "name": "python2"
  },
  "language_info": {
   "codemirror_mode": {
    "name": "ipython",
    "version": 2
   },
   "file_extension": ".py",
   "mimetype": "text/x-python",
   "name": "python",
   "nbconvert_exporter": "python",
   "pygments_lexer": "ipython2",
   "version": "2.7.15"
  }
 },
 "nbformat": 4,
 "nbformat_minor": 2
}
